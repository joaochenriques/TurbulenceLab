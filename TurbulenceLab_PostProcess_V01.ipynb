{
  "cells": [
    {
      "cell_type": "markdown",
      "metadata": {
        "id": "view-in-github",
        "colab_type": "text"
      },
      "source": [
        "<a href=\"https://colab.research.google.com/github/joaochenriques/TurbulenceLab/blob/main/TurbulenceLab_PostProcess_V01.ipynb\" target=\"_parent\"><img src=\"https://colab.research.google.com/assets/colab-badge.svg\" alt=\"Open In Colab\"/></a>"
      ]
    },
    {
      "cell_type": "markdown",
      "source": [
        "## Assign the google_link to a '*.h5' file stored in your grive\n"
      ],
      "metadata": {
        "id": "WmckDZQGQ8xZ"
      }
    },
    {
      "cell_type": "code",
      "source": [
        "Cases = { \n",
        "    1: ( 'https://drive.google.com/file/d/1IcAEOSKGW5kyhw4t3vg3ZZ9GTDNbHd9L/view?usp=sharing', 'Turbulence_Lab' ),\n",
        "    2: ( 'https://drive.google.com/file/d/1c4PSd5W_fgagS93TzSW-9bufN5L-7X2u/view?usp=sharing', 'Turbulence_G89' ),\n",
        "    3: ( 'https://drive.google.com/file/d/14WHwyzIUw5vIvsQFH12mq8OUSH5uO8HJ/view?usp=sharing', 'Turbulence_G234')\n",
        "}\n",
        "\n",
        "LINK, FILENAME = Cases[3]\n",
        "FILENAME"
      ],
      "metadata": {
        "id": "6mL1mUP3Lrp3",
        "outputId": "bb304560-0a24-44de-a5fb-c6c0e0c4409c",
        "colab": {
          "base_uri": "https://localhost:8080/",
          "height": 35
        }
      },
      "execution_count": 11,
      "outputs": [
        {
          "output_type": "execute_result",
          "data": {
            "text/plain": [
              "'Turbulence_G234'"
            ],
            "application/vnd.google.colaboratory.intrinsic+json": {
              "type": "string"
            }
          },
          "metadata": {},
          "execution_count": 11
        }
      ]
    },
    {
      "cell_type": "markdown",
      "source": [
        "## Import libs"
      ],
      "metadata": {
        "id": "IwFvgbw2gncv"
      }
    },
    {
      "cell_type": "code",
      "source": [
        "import sys\n",
        "IN_COLAB = 'google.colab' in sys.modules"
      ],
      "metadata": {
        "id": "zd7H87PcuTu3"
      },
      "execution_count": 12,
      "outputs": []
    },
    {
      "cell_type": "code",
      "source": [
        "if IN_COLAB:\n",
        "    !pip install gdown > null"
      ],
      "metadata": {
        "id": "eIZaVlp-s7DU"
      },
      "execution_count": 13,
      "outputs": []
    },
    {
      "cell_type": "code",
      "execution_count": 14,
      "metadata": {
        "id": "gxBJwzJ5hQFA"
      },
      "outputs": [],
      "source": [
        "import h5py\n",
        "import matplotlib.pyplot as mpl\n",
        "import numpy as np\n",
        "import pandas as pd\n",
        "import gdown"
      ]
    },
    {
      "cell_type": "code",
      "source": [
        "# If running python on Windows operating system, copy the file:\n",
        "# https://raw.githubusercontent.com/joaochenriques/ipynb_libs/main/mpl_utils.py\n",
        "# to the working folder before running the notebook\n",
        "\n",
        "import pathlib\n",
        "if not pathlib.Path(\"mpl_utils.py\").exists():\n",
        "  !curl -O https://raw.githubusercontent.com/joaochenriques/ipynb_libs/main/mpl_utils.py \n",
        "\n",
        "import mpl_utils as mut\n",
        "mut.config_plots()\n",
        "\n",
        "%config InlineBackend.figure_formats = ['svg']\n",
        "mpl.rcParams[\"figure.figsize\"] = (6,4.5)"
      ],
      "metadata": {
        "id": "7lfApMWstOIe",
        "colab": {
          "base_uri": "https://localhost:8080/"
        },
        "outputId": "49711a36-82ef-4b66-f466-b5b4591b5827"
      },
      "execution_count": 5,
      "outputs": [
        {
          "output_type": "stream",
          "name": "stdout",
          "text": [
            "  % Total    % Received % Xferd  Average Speed   Time    Time     Time  Current\n",
            "                                 Dload  Upload   Total   Spent    Left  Speed\n",
            "100  3483  100  3483    0     0   8907      0 --:--:-- --:--:-- --:--:--  8907\n"
          ]
        }
      ]
    },
    {
      "cell_type": "markdown",
      "source": [
        "# Download test case"
      ],
      "metadata": {
        "id": "qgtTiqkntHQo"
      }
    },
    {
      "cell_type": "code",
      "source": [
        "H5_FILENAME = FILENAME + '.h5'\n",
        "gdown.download(LINK, H5_FILENAME, quiet=False, fuzzy=True)"
      ],
      "metadata": {
        "id": "Bn_rLYV9VeAk",
        "outputId": "25ed7b17-b42c-4165-b558-22f39fc5ac16",
        "colab": {
          "base_uri": "https://localhost:8080/",
          "height": 104
        }
      },
      "execution_count": 15,
      "outputs": [
        {
          "output_type": "stream",
          "name": "stderr",
          "text": [
            "Downloading...\n",
            "From: https://drive.google.com/uc?id=14WHwyzIUw5vIvsQFH12mq8OUSH5uO8HJ\n",
            "To: /content/Turbulence_G234.h5\n",
            "100%|██████████| 173M/173M [00:02<00:00, 64.6MB/s]\n"
          ]
        },
        {
          "output_type": "execute_result",
          "data": {
            "text/plain": [
              "'Turbulence_G234.h5'"
            ],
            "application/vnd.google.colaboratory.intrinsic+json": {
              "type": "string"
            }
          },
          "metadata": {},
          "execution_count": 15
        }
      ]
    },
    {
      "cell_type": "markdown",
      "source": [
        "## Read data file and list all test cases names"
      ],
      "metadata": {
        "id": "QSzVUEGem0PN"
      }
    },
    {
      "cell_type": "code",
      "source": [
        "hf = h5py.File( H5_FILENAME, 'r' )\n",
        "list( hf.keys() )"
      ],
      "metadata": {
        "colab": {
          "base_uri": "https://localhost:8080/"
        },
        "id": "DVM0ZJEHmt2x",
        "outputId": "8bd995e6-20c2-4067-f35b-bc635bfb7ea0"
      },
      "execution_count": 16,
      "outputs": [
        {
          "output_type": "execute_result",
          "data": {
            "text/plain": [
              "['Central', 'Central2', 'Central3']"
            ]
          },
          "metadata": {},
          "execution_count": 16
        }
      ]
    },
    {
      "cell_type": "markdown",
      "source": [
        "## Save all test cases as comma separated values (*.csv)"
      ],
      "metadata": {
        "id": "xkbx5_2Ypbwm"
      }
    },
    {
      "cell_type": "code",
      "source": [
        "for test in hf.keys():\n",
        "    print( f'Save case: {test}' )\n",
        "    times = np.array( hf[ test + '/time'] )\n",
        "    velocity = np.array( hf[ test + '/hotwire'] )\n",
        "\n",
        "    # data = { 't [s]': times, 'u [m/s]': velocity }\n",
        "    data = { 'u [m/s]': velocity }\n",
        "    df_save = pd.DataFrame( data )\n",
        "    df_save.to_csv( FILENAME + '_' + test + '.csv', index=False )"
      ],
      "metadata": {
        "colab": {
          "base_uri": "https://localhost:8080/"
        },
        "id": "H54ik6IfocF6",
        "outputId": "7e0fda88-fcbd-4922-ace6-5c2b2662e911"
      },
      "execution_count": 17,
      "outputs": [
        {
          "output_type": "stream",
          "name": "stdout",
          "text": [
            "Save case: Central\n",
            "Save case: Central2\n",
            "Save case: Central3\n"
          ]
        }
      ]
    },
    {
      "cell_type": "markdown",
      "source": [
        "## If running in google colab then zip all '*.csv' files in a file called 'DataFiles.zip' for download"
      ],
      "metadata": {
        "id": "KbEoEGX2phkl"
      }
    },
    {
      "cell_type": "code",
      "source": [
        "if IN_COLAB:\n",
        "    !zip -1 DataFiles.zip  *.csv "
      ],
      "metadata": {
        "colab": {
          "base_uri": "https://localhost:8080/"
        },
        "id": "TUPo-g89pZaV",
        "outputId": "083fcd67-42c0-408f-8af4-22faf25d47b4"
      },
      "execution_count": 18,
      "outputs": [
        {
          "output_type": "stream",
          "name": "stdout",
          "text": [
            "  adding: Turbulence_G234_Central2.csv (deflated 82%)\n",
            "  adding: Turbulence_G234_Central3.csv (deflated 90%)\n",
            "  adding: Turbulence_G234_Central.csv (deflated 85%)\n",
            "  adding: Turbulence_G89_Central.csv (deflated 85%)\n",
            "  adding: Turbulence_G89_TNTI.csv (deflated 85%)\n"
          ]
        }
      ]
    },
    {
      "cell_type": "markdown",
      "source": [
        "## Plot one case"
      ],
      "metadata": {
        "id": "iJiSGC8up-7h"
      }
    },
    {
      "cell_type": "code",
      "source": [
        "times = np.array( hf['Test_lateral/time'] )\n",
        "velocity = np.array( hf['Test_lateral/hotwire'] )"
      ],
      "metadata": {
        "id": "rMmLKRVPpzrm"
      },
      "execution_count": null,
      "outputs": []
    },
    {
      "cell_type": "code",
      "source": [
        "mpl.figure(1)\n",
        "mpl.plot( times, velocity )\n",
        "mpl.xlabel( '$t$ [s]')\n",
        "mpl.ylabel( '$u$ [m/s]')\n",
        "\n",
        "mpl.xlim( 45, 45.1 )\n",
        "mpl.grid()\n",
        "\n",
        "mpl.savefig( 'velocity_zoom.pdf', bbox_inches='tight', pad_inches=0.02 )\n",
        "mpl.savefig( 'velocity_zoom.svg', bbox_inches='tight', pad_inches=0.02 )\n",
        "mpl.savefig( 'velocity_zoom.png', bbox_inches='tight', pad_inches=0.02 );"
      ],
      "metadata": {
        "id": "6k5WEYn7qtEp"
      },
      "execution_count": null,
      "outputs": []
    },
    {
      "cell_type": "code",
      "source": [
        "fig, (ax1, ax2) = mpl.subplots(1,2, figsize=(12, 4.5) )\n",
        "fig.subplots_adjust( wspace = 0.17 )\n",
        "\n",
        "ax1.set_title('Signal')\n",
        "ax1.plot( times, velocity )\n",
        "ax1.set_xlabel( '$t$ [s]')\n",
        "ax1.set_ylabel( '$u$ [m/s]')\n",
        "ax1.set_xlim( 0, 240 )\n",
        "ax1.xaxis.set_major_locator(mpl.MultipleLocator(40))\n",
        "ax1.grid()\n",
        "ax1.text(-0.17, 1.05, 'a)', transform=ax1.transAxes, size=16, weight='semibold')\n",
        "\n",
        "ax2.set_title('Zoom in')\n",
        "ax2.plot( times, velocity )\n",
        "ax2.set_xlabel( '$t$ [s]')\n",
        "ax2.set_ylabel( '$u$ [m/s]')\n",
        "ax2.set_xlim( 45, 45.01 )\n",
        "ax2.grid()\n",
        "ax2.text(-0.17, 1.05, 'b)', transform=ax2.transAxes, size=16, weight='semibold')\n",
        "\n",
        "mpl.savefig( 'velocity_dual.pdf', bbox_inches='tight', pad_inches=0.02 )\n",
        "mpl.savefig( 'velocity_dual.svg', bbox_inches='tight', pad_inches=0.02 )\n",
        "mpl.savefig( 'velocity_dual.png', bbox_inches='tight', pad_inches=0.02 );"
      ],
      "metadata": {
        "id": "p1GhB_gEx4d9"
      },
      "execution_count": null,
      "outputs": []
    }
  ],
  "metadata": {
    "interpreter": {
      "hash": "687cc4e401708a16426ccc61b37822e273e79eddba24f8f00be477bc6019a9b9"
    },
    "kernelspec": {
      "display_name": "Python 3 (ipykernel)",
      "language": "python",
      "name": "python3"
    },
    "language_info": {
      "codemirror_mode": {
        "name": "ipython",
        "version": 3
      },
      "file_extension": ".py",
      "mimetype": "text/x-python",
      "name": "python",
      "nbconvert_exporter": "python",
      "pygments_lexer": "ipython3",
      "version": "3.10.2"
    },
    "colab": {
      "name": "TurbulenceLab_PostProcess_V01.ipynb",
      "provenance": [],
      "collapsed_sections": [],
      "include_colab_link": true
    }
  },
  "nbformat": 4,
  "nbformat_minor": 0
}